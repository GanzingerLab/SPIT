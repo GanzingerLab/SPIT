{
 "cells": [
  {
   "cell_type": "code",
   "execution_count": 1,
   "id": "ca54114f",
   "metadata": {},
   "outputs": [],
   "source": [
    "import pandas as pd\n",
    "import seaborn as sns\n",
    "import matplotlib.pyplot as plt\n",
    "\n",
    "plt.style.use(\n",
    "    r'D:\\Dropbox\\Work\\!DNA tracking 2021\\Figures\\nature_7pt.mplstyle')\n",
    "\n",
    "# Load data\n",
    "df_data = pd.read_hdf(r'U:\\DNA-PAINT-SPT\\Fig1H\\df_1H.hdf', key='df_data')"
   ]
  },
  {
   "cell_type": "code",
   "execution_count": 3,
   "id": "7bf992a1",
   "metadata": {},
   "outputs": [
    {
     "data": {
      "image/png": "[encoded data removed]",
      "text/plain": [
       "<Figure size 80x150 with 1 Axes>"
      ]
     },
     "metadata": {
      "needs_background": "light"
     },
     "output_type": "display_data"
    }
   ],
   "source": [
    "# Plot\n",
    "f, ax = plt.subplots(1, 1)\n",
    "f.subplots_adjust(left=0.25, right=0.95, bottom=0.25,\n",
    "                  top=0.95, wspace=0.5, hspace=0.2)\n",
    "f.set_figheight(1.5)\n",
    "f.set_figwidth(0.8)\n",
    "ax.set_ylim([0, 0.6])\n",
    "\n",
    "ax = sns.boxplot(data=df_data, x='condition', y='D_msd_avg', linewidth=0.5,\n",
    "                 whis=1.5, palette=['seagreen', 'mediumorchid', 'dodgerblue'], boxprops=dict(alpha=1), orient='v', showfliers=False)\n",
    "ax.set_xlabel('')\n",
    "ax.set_ylabel(r'$D_{\\mathrm{msd}} \\ [\\mathrm{\\mu m^2/s}]$')\n",
    "ax.set_xticklabels(['ATTO643', 'Cy3B', 'Dimer'], rotation=40);\n"
   ]
  }
 ],
 "metadata": {
  "kernelspec": {
   "display_name": "Python 3 (ipykernel)",
   "language": "python",
   "name": "python3"
  },
  "language_info": {
   "codemirror_mode": {
    "name": "ipython",
    "version": 3
   },
   "file_extension": ".py",
   "mimetype": "text/x-python",
   "name": "python",
   "nbconvert_exporter": "python",
   "pygments_lexer": "ipython3",
   "version": "3.7.13"
  }
 },
 "nbformat": 4,
 "nbformat_minor": 5
}
