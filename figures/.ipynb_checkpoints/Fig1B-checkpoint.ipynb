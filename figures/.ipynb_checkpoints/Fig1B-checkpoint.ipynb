{
 "cells": [
  {
   "cell_type": "code",
   "execution_count": 1,
   "id": "b45eda90",
   "metadata": {},
   "outputs": [],
   "source": [
    "import pandas as pd\n",
    "import matplotlib.pyplot as plt\n",
    "import seaborn as sns\n",
    "from spit import tools\n",
    "\n",
    "plt.style.use(\n",
    "    r'U:\\DNA-PAINT-SPT\\nature_7pt.mplstyle')\n",
    "\n",
    "# Load data\n",
    "path_hdf = r'U:\\DNA-PAINT-SPT\\Fig1B\\fig1B.hdf'\n",
    "dfExperiment = pd.read_hdf(path_hdf, key='dfExperiment')"
   ]
  },
  {
   "cell_type": "code",
   "execution_count": 13,
   "id": "3ad57327",
   "metadata": {},
   "outputs": [
    {
     "data": {
      "image/png": "[encoded data removed]",
      "text/plain": [
       "<Figure size 50x120 with 1 Axes>"
      ]
     },
     "metadata": {
      "needs_background": "light"
     },
     "output_type": "display_data"
    }
   ],
   "source": [
    "# Plot data\n",
    "f, ax = plt.subplots(1, 1)\n",
    "f.set_figheight(1.2)\n",
    "f.set_figwidth(0.5)\n",
    "f.subplots_adjust(left=0.02, right=0.95, bottom=0.05,\n",
    "                  top=0.95, wspace=0.0, hspace=0.0)\n",
    "\n",
    "\n",
    "ax = sns.boxplot(data=dfExperiment, x='condition', y='density', hue='channel',\n",
    "                 palette=['limegreen', 'orchid'], linewidth=0.4, whis=1.5, showfliers=False,\n",
    "                 orient='v', order=['T1', 'T2'])\n",
    "ax.set_ylabel(r'Localization density [1/μm$^2$]')\n",
    "ax.set_xlabel('')\n",
    "handles, labels = ax.get_legend_handles_labels()\n",
    "order = [1, 0]\n",
    "leg = ax.legend([handles[i] for i in order], [labels[i] for i in order],\n",
    "                bbox_to_anchor=(1, 0.55), loc='upper right', bbox_transform=ax.transAxes,\n",
    "                handlelength=1, borderpad=0.2, labelspacing=0)\n",
    "leg.get_frame().set_edgecolor('black')\n",
    "leg.get_frame().set_linewidth(0.5)\n",
    "ax.set_ylim([-0.005, 0.15]);\n",
    "ax.set_xticklabels(['poly(TC)', 'poly(AC)'], rotation=45);"
   ]
  },
  {
   "cell_type": "code",
   "execution_count": null,
   "id": "046fa12f",
   "metadata": {},
   "outputs": [],
   "source": []
  }
 ],
 "metadata": {
  "kernelspec": {
   "display_name": "Python 3 (ipykernel)",
   "language": "python",
   "name": "python3"
  },
  "language_info": {
   "codemirror_mode": {
    "name": "ipython",
    "version": 3
   },
   "file_extension": ".py",
   "mimetype": "text/x-python",
   "name": "python",
   "nbconvert_exporter": "python",
   "pygments_lexer": "ipython3",
   "version": "3.7.13"
  }
 },
 "nbformat": 4,
 "nbformat_minor": 5
}
