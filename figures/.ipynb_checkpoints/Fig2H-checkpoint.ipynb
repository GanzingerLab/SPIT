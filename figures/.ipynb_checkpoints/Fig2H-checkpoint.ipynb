{
 "cells": [
  {
   "cell_type": "code",
   "execution_count": 1,
   "id": "2bac17cc",
   "metadata": {},
   "outputs": [],
   "source": [
    "import pandas as pd\n",
    "import matplotlib.pyplot as plt\n",
    "import seaborn as sns\n",
    "\n",
    "plt.style.use(r'U:\\DNA-PAINT-SPT\\nature_7pt.mplstyle')\n",
    "df_data = pd.read_hdf(r'U:\\DNA-PAINT-SPT\\Fig2H\\df_data.hdf', key='df_data')"
   ]
  },
  {
   "cell_type": "code",
   "execution_count": 11,
   "id": "530f6871",
   "metadata": {},
   "outputs": [
    {
     "data": {
      "text/plain": [
       "Text(0.5, 0, '')"
      ]
     },
     "execution_count": 11,
     "metadata": {},
     "output_type": "execute_result"
    },
    {
     "data": {
      "image/png": "[encoded data removed]",
      "text/plain": [
       "<Figure size 80x170 with 1 Axes>"
      ]
     },
     "metadata": {
      "needs_background": "light"
     },
     "output_type": "display_data"
    }
   ],
   "source": [
    "f, ax = plt.subplots(1, 1,)\n",
    "f.set_figheight(1.7)\n",
    "f.set_figwidth(0.8)\n",
    "f.subplots_adjust(left=0.02, right=0.95, bottom=0.05,\n",
    "                  top=0.95, wspace=0.9, hspace=0.05)\n",
    "\n",
    "\n",
    "my_palette = {'BG-SD JF549': 'lightsteelblue', 'BG-SD AF647': 'lightsteelblue',\n",
    "              'DNA-SD Cy3B': 'cornflowerblue', 'DNA-PAINT Cy3B': 'tomato'}\n",
    "ax = sns.boxplot(data=df_data, x='condition', orient='v', whis=1.5,\n",
    "                 y='D_msd_avg', palette=my_palette, linewidth=0.5,  showfliers=False,\n",
    "                 order=['DNA-PAINT Cy3B', 'DNA-SD Cy3B', 'BG-SD JF549', 'BG-SD AF647'])\n",
    "\n",
    "ax.set_xticklabels(['DNA-PAINT', 'DNA-SD',\n",
    "                   'BG-JF549', 'BG-AF647'], rotation=90)\n",
    "ax.set_ylim([0, 0.15])\n",
    "ax.set_ylabel(r'$D_{\\mathrm{msd}} \\ [\\mathrm{\\mu m^2/s}$]')\n",
    "ax.set_xlabel('')"
   ]
  }
 ],
 "metadata": {
  "kernelspec": {
   "display_name": "Python 3 (ipykernel)",
   "language": "python",
   "name": "python3"
  },
  "language_info": {
   "codemirror_mode": {
    "name": "ipython",
    "version": 3
   },
   "file_extension": ".py",
   "mimetype": "text/x-python",
   "name": "python",
   "nbconvert_exporter": "python",
   "pygments_lexer": "ipython3",
   "version": "3.7.13"
  }
 },
 "nbformat": 4,
 "nbformat_minor": 5
}
