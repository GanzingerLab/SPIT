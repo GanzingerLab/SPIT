{
 "cells": [
  {
   "cell_type": "code",
   "execution_count": 1,
   "id": "f776ef0f",
   "metadata": {},
   "outputs": [],
   "source": [
    "import pandas as pd\n",
    "import matplotlib.pyplot as plt\n",
    "import seaborn as sns\n",
    "plt.style.use(r'U:\\DNA-PAINT-SPT\\nature_7pt.mplstyle')\n",
    "\n",
    "# Load data\n",
    "path_data = r'U:\\DNA-PAINT-SPT\\Fig2J\\df_data.hdf'\n",
    "df_data = pd.read_hdf(path_data, key='df_data')"
   ]
  },
  {
   "cell_type": "code",
   "execution_count": 7,
   "id": "c1b67d95",
   "metadata": {},
   "outputs": [
    {
     "data": {
      "image/png": "[encoded data removed]",
      "text/plain": [
       "<Figure size 170x220 with 1 Axes>"
      ]
     },
     "metadata": {
      "needs_background": "light"
     },
     "output_type": "display_data"
    }
   ],
   "source": [
    "# Plot\n",
    "f, ax = plt.subplots(1, 1)\n",
    "f.set_figheight(2.2)\n",
    "f.set_figwidth(1.7)\n",
    "\n",
    "sns.boxplot(data=df_data, x='experiment', y='nTracksMean', hue='channel',\n",
    "            palette=['orchid', 'cyan'], linewidth=0.5, whis=1.5, ax=ax, showfliers=False)\n",
    "ax.set_ylabel('Tracks per 100μm$^2$ cell area')\n",
    "ax.set(xlabel='')\n",
    "ax.tick_params(axis='x', rotation=0)\n",
    "\n",
    "# Hide the right and top spines\n",
    "ax.spines.right.set_visible(False)\n",
    "ax.spines.top.set_visible(False)\n",
    "\n",
    "# Only show ticks on the left and bottom spines\n",
    "ax.yaxis.set_ticks_position('left')\n",
    "ax.xaxis.set_ticks_position('bottom')\n",
    "\n",
    "leg = ax.legend(handles=ax.legend_.legendHandles, title='Imager strand',\n",
    "                labels=['(GA)-Cy3B', '(GT)-ATTO643'], loc='upper right',\n",
    "                handlelength=1, borderpad=0.2, labelspacing=0.2, edgecolor='black')\n",
    "leg.get_frame().set_linewidth(.5)"
   ]
  }
 ],
 "metadata": {
  "kernelspec": {
   "display_name": "Python 3 (ipykernel)",
   "language": "python",
   "name": "python3"
  },
  "language_info": {
   "codemirror_mode": {
    "name": "ipython",
    "version": 3
   },
   "file_extension": ".py",
   "mimetype": "text/x-python",
   "name": "python",
   "nbconvert_exporter": "python",
   "pygments_lexer": "ipython3",
   "version": "3.7.13"
  }
 },
 "nbformat": 4,
 "nbformat_minor": 5
}
