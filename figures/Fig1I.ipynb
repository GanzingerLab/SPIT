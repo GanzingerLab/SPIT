{
 "cells": [
  {
   "cell_type": "code",
   "execution_count": 10,
   "id": "8c4f4366",
   "metadata": {},
   "outputs": [],
   "source": [
    "import os\n",
    "import numpy as np\n",
    "from glob import glob\n",
    "import pandas as pd\n",
    "import matplotlib.pyplot as plt\n",
    "from spit import tools\n",
    "from spit.analysis.functions import dimerKD as dimerKD\n",
    "from spit.analysis.functions import dimertracks as dimertracks\n",
    "\n",
    "plt.style.use(\n",
    "    r'U:\\DNA-PAINT-SPT\\nature_7pt.mplstyle')\n",
    "\n",
    "\n",
    "def plot_dimer_insets(df_dimers, path_data, concentrations, ax=None):\n",
    "    # Parameters for insets\n",
    "    size = 0.25  # inset size (fraction of parent ax)\n",
    "    padding_x = 0.04  # distance from left and right bounding box\n",
    "    padding_y = 0.6  # distance between upper and lower row\n",
    "    shift_upper_row_x = 0  # shift upper row closer to center\n",
    "    shift_upper_row_y = 0.1  # shift lower row up\n",
    "    titleshift = [-0.8, .9, .9, -0.8]\n",
    "    filter_D = 0.01  # drop immobile particles\n",
    "    filter_length = 20  # to prevent too crowded plots\n",
    "\n",
    "    axins0 = ax.inset_axes((padding_x+shift_upper_row_x, 1 -\n",
    "                           padding_y-size+shift_upper_row_y, size, size))\n",
    "    axins1 = ax.inset_axes((padding_x, padding_y, size, size))\n",
    "    axins2 = ax.inset_axes((1-padding_x-size, padding_y, size, size))\n",
    "    axins3 = ax.inset_axes((1-padding_x-size-shift_upper_row_x,\n",
    "                           1-padding_y-size+shift_upper_row_y, size, size))\n",
    "\n",
    "    paths_coloc = []\n",
    "    for idx, value in enumerate(concentrations):\n",
    "        paths_coloc.append(glob(\n",
    "            os.path.dirname(path_data) + f'/data/{concentrations[idx]} M/*_colocs_nm.csv', recursive=True))\n",
    "\n",
    "    concentrations_written = [tools.float2SI(np.float64(\n",
    "        concentration))+'M' for concentration in concentrations]\n",
    "\n",
    "    for idx, axi in enumerate([axins0, axins1, axins2, axins3]):\n",
    "        paths_colocC = paths_coloc[idx][0]\n",
    "        df_tracks_coloc, df_stats_coloc = dimertracks.prepare_tracks(\n",
    "            paths_colocC, filter_length=filter_length, filter_D=filter_D)\n",
    "\n",
    "        dimertracks.plot_tracks(df_tracks_coloc, 'skyblue', ax=axi)\n",
    "        axi.set_facecolor(\"none\")\n",
    "        axi.xaxis.set_visible(False)\n",
    "        axi.yaxis.set_visible(False)\n",
    "        axi.set_xlim(1000, 70000)\n",
    "        axi.set_ylim(1000, 70000)\n",
    "        axi.set_title(concentrations_written[idx], y=titleshift[idx])\n",
    "        axi.spines.top.set(visible=True)\n",
    "        axi.spines.right.set(visible=True)"
   ]
  },
  {
   "cell_type": "code",
   "execution_count": 11,
   "id": "b6491371",
   "metadata": {},
   "outputs": [
    {
     "name": "stdout",
     "output_type": "stream",
     "text": [
      "K_X = 5.9e-03 +/- 5.6e-04 [1/um2] \n",
      "K_B = 3.3e-07 +/- 1.1E-08 [1/um3] =  5.4e-10 M\n",
      "corr. factor =  4.2e-01 +/-  1.0e-02\n",
      "Fit peak: 2.8e-10 M = K_B/2\n"
     ]
    },
    {
     "name": "stderr",
     "output_type": "stream",
     "text": [
      "100%|██████████| 36/36 [00:00<00:00, 1244.66it/s]\n",
      "100%|██████████| 489/489 [00:00<00:00, 1175.80it/s]\n",
      "100%|██████████| 1006/1006 [00:02<00:00, 463.77it/s]\n",
      "100%|██████████| 76/76 [00:00<00:00, 182.88it/s]\n"
     ]
    },
    {
     "data": {
      "image/png": "[encoded data removed]",
      "text/plain": [
       "<Figure size 220x150 with 1 Axes>"
      ]
     },
     "metadata": {
      "needs_background": "light"
     },
     "output_type": "display_data"
    }
   ],
   "source": [
    "# Load data\n",
    "path_data = r'U:\\DNA-PAINT-SPT\\Fig1I\\df_dimers.csv'\n",
    "df_dimers = pd.read_csv(path_data)\n",
    "\n",
    "inset_concentrations = ['1E-12', '1E-11', '1E-10', '1E-7']  # in Molar\n",
    "\n",
    "\n",
    "# Plot\n",
    "f, ax = plt.subplots(1, 1)\n",
    "f.subplots_adjust(left=0.25, right=0.95, bottom=0.25,\n",
    "                  top=0.95, wspace=0.5, hspace=0.2)\n",
    "f.set_figheight(1.5)\n",
    "f.set_figwidth(2.2)\n",
    "\n",
    "dimerKD.plot_dimer_fit(df_dimers, annotation=False, ax=ax)\n",
    "plot_dimer_insets(df_dimers, path_data, concentrations=inset_concentrations, ax=ax)\n"
   ]
  }
 ],
 "metadata": {
  "kernelspec": {
   "display_name": "Python 3 (ipykernel)",
   "language": "python",
   "name": "python3"
  },
  "language_info": {
   "codemirror_mode": {
    "name": "ipython",
    "version": 3
   },
   "file_extension": ".py",
   "mimetype": "text/x-python",
   "name": "python",
   "nbconvert_exporter": "python",
   "pygments_lexer": "ipython3",
   "version": "3.7.13"
  }
 },
 "nbformat": 4,
 "nbformat_minor": 5
}
