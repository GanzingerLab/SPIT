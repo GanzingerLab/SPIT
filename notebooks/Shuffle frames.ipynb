{
 "cells": [
  {
   "cell_type": "code",
   "execution_count": 1,
   "id": "7b744339",
   "metadata": {},
   "outputs": [
    {
     "name": "stdout",
     "output_type": "stream",
     "text": [
      "   t          x          y  intensity        sx        sy        bg       lpx  \\\n",
      "0  0  15.328274  462.86030  839.09607  2.942547  3.479598 -3.372645  0.136536   \n",
      "1  0  20.469105  317.93920  268.06410  4.300575  1.167175  3.819789  1.081044   \n",
      "2  0  21.185165  644.17270  644.46000  2.175533  2.216890  6.535510  0.211942   \n",
      "3  0  23.830730  618.63916  537.72516  1.735625  3.703187  4.192814  0.165695   \n",
      "4  0  25.738024  127.31396  263.31332  1.760740  1.685638  0.587647  0.217498   \n",
      "\n",
      "        lpy  ellipticity  net_gradient  loc_precision  nearest_neighbor  \\\n",
      "0  0.125989     0.154343     312.57210       0.131263         40.574379   \n",
      "1  0.157349     0.728600     308.81534       0.619197         25.814096   \n",
      "2  0.217559     0.018656     764.44104       0.214751         25.670259   \n",
      "3  0.479556     0.531316     368.92993       0.322625         23.029872   \n",
      "4  0.207694     0.042654     406.85608       0.212596         17.907483   \n",
      "\n",
      "   cell_id  \n",
      "0        0  \n",
      "1        0  \n",
      "2        0  \n",
      "3        0  \n",
      "4        0  \n"
     ]
    }
   ],
   "source": [
    "import pandas as pd\n",
    "import numpy as np\n",
    "\n",
    "# Load the CSV file into a DataFrame\n",
    "df = pd.read_csv(r'Y:\\11 FKBP interaction\\Data\\20220527 Dimer parallel\\Ligand 10E-10 M\\Run00004\\Run00004_record_ch0_locs.csv')\n",
    "\n",
    "# Display the DataFrame to see the result\n",
    "print(df.head())"
   ]
  },
  {
   "cell_type": "code",
   "execution_count": 2,
   "id": "c5f580a8",
   "metadata": {},
   "outputs": [
    {
     "name": "stdout",
     "output_type": "stream",
     "text": [
      "     t          x          y  intensity        sx        sy        bg  \\\n",
      "0  386  15.328274  462.86030  839.09607  2.942547  3.479598 -3.372645   \n",
      "1  386  20.469105  317.93920  268.06410  4.300575  1.167175  3.819789   \n",
      "2  386  21.185165  644.17270  644.46000  2.175533  2.216890  6.535510   \n",
      "3  386  23.830730  618.63916  537.72516  1.735625  3.703187  4.192814   \n",
      "4  386  25.738024  127.31396  263.31332  1.760740  1.685638  0.587647   \n",
      "\n",
      "        lpx       lpy  ellipticity  net_gradient  loc_precision  \\\n",
      "0  0.136536  0.125989     0.154343     312.57210       0.131263   \n",
      "1  1.081044  0.157349     0.728600     308.81534       0.619197   \n",
      "2  0.211942  0.217559     0.018656     764.44104       0.214751   \n",
      "3  0.165695  0.479556     0.531316     368.92993       0.322625   \n",
      "4  0.217498  0.207694     0.042654     406.85608       0.212596   \n",
      "\n",
      "   nearest_neighbor  cell_id  \n",
      "0         40.574379        0  \n",
      "1         25.814096        0  \n",
      "2         25.670259        0  \n",
      "3         23.029872        0  \n",
      "4         17.907483        0  \n"
     ]
    }
   ],
   "source": [
    "# Create a list of unique values in the 'frame' column\n",
    "unique_values = df['t'].unique()\n",
    "\n",
    "# Create a shuffled version of unique_values\n",
    "shuffled_values = np.copy(unique_values)\n",
    "np.random.shuffle(shuffled_values)\n",
    "\n",
    "# Create a dictionary that maps old values to new values\n",
    "mapping = dict(zip(unique_values, shuffled_values))\n",
    "\n",
    "# Apply this map to the 'frame' column\n",
    "df['t'] = df['t'].map(mapping)\n",
    "\n",
    "# Display the shuffled DataFrame to see the result\n",
    "print(df.head())\n"
   ]
  },
  {
   "cell_type": "code",
   "execution_count": 3,
   "id": "4e0571a0",
   "metadata": {},
   "outputs": [],
   "source": [
    "# Write the DataFrame to new .csv file\n",
    "suffix = '_shuffled'\n",
    "df.to_csv(r'Y:\\11 FKBP interaction\\Data\\20220527 Dimer parallel\\Ligand 10E-10 M\\Run00004\\Run00004_record'+suffix+'_ch0_locs.csv')"
   ]
  },
  {
   "cell_type": "code",
   "execution_count": null,
   "id": "c1850895",
   "metadata": {},
   "outputs": [],
   "source": []
  }
 ],
 "metadata": {
  "kernelspec": {
   "display_name": "Python 3 (ipykernel)",
   "language": "python",
   "name": "python3"
  },
  "language_info": {
   "codemirror_mode": {
    "name": "ipython",
    "version": 3
   },
   "file_extension": ".py",
   "mimetype": "text/x-python",
   "name": "python",
   "nbconvert_exporter": "python",
   "pygments_lexer": "ipython3",
   "version": "3.9.13"
  }
 },
 "nbformat": 4,
 "nbformat_minor": 5
}
