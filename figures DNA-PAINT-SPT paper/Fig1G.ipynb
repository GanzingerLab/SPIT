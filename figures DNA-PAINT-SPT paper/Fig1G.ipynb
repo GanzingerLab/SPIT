{
 "cells": [
  {
   "cell_type": "code",
   "execution_count": 4,
   "id": "d5ced33a",
   "metadata": {},
   "outputs": [],
   "source": [
    "import matplotlib.pyplot as plt\n",
    "import numpy as np\n",
    "import pandas as pd\n",
    "\n",
    "plt.style.use(\n",
    "    r'U:\\DNA-PAINT-SPT\\nature_7pt.mplstyle')\n",
    "\n",
    "# Load data\n",
    "df_dimers = pd.read_hdf(r'U:\\DNA-PAINT-SPT\\Fig1G\\df_dimers.hdf', key='df_dimers')"
   ]
  },
  {
   "cell_type": "code",
   "execution_count": 5,
   "id": "a3703276",
   "metadata": {},
   "outputs": [
    {
     "data": {
      "image/png": "[encoded data removed]",
      "text/plain": [
       "<Figure size 170x140 with 1 Axes>"
      ]
     },
     "metadata": {
      "needs_background": "light"
     },
     "output_type": "display_data"
    }
   ],
   "source": [
    "# Plot\n",
    "f, ax = plt.subplots(1, 1)\n",
    "f.set_figheight(1.4)\n",
    "f.set_figwidth(1.7)\n",
    "rolling = 60\n",
    "\n",
    "colors = iter(['tomato', 'cornflowerblue'])\n",
    "\n",
    "df_dimers_exploded = df_dimers.explode(['track_lengths'])\n",
    "\n",
    "# combine data for side-to-side histogram plot\n",
    "data_combined = [df_dimers_exploded.loc[(df_dimers_exploded.condition == 'PAINT\\\\Ligand ch coloc')].track_lengths.values,\n",
    "                 df_dimers_exploded.loc[(df_dimers_exploded.condition == 'SD\\\\Ligand ch coloc')].track_lengths.values]\n",
    "\n",
    "for condition in df_dimers.condition.unique():\n",
    "    df_C = df_dimers_exploded.loc[(df_dimers_exploded.condition == condition)]\n",
    "    # determnine number of bins\n",
    "    _, bins = np.histogram(df_dimers_exploded.track_lengths, bins='sturges')\n",
    "    ax.hist(data_combined,\n",
    "            color=['tomato', 'cornflowerblue'],\n",
    "            bins=len(bins),\n",
    "            histtype='bar',\n",
    "            stacked=False,\n",
    "            zorder=100)\n",
    "    ax.set_yscale('log')\n",
    "ax.set_xticks(np.arange(0, 4450, step=1000))\n",
    "ax.xaxis.set_major_formatter(plt.FuncFormatter(lambda x, _: f'{x/25:.0f}'))\n",
    "ax.set_xlabel('Co-diffusion duration [s]')\n",
    "ax.set_ylabel('# Events')\n",
    "leg = ax.legend(labels=['DNA-PAINT', 'SD'], loc='upper right',\n",
    "                handlelength=1, borderpad=0.2, labelspacing=0.2, edgecolor='black')\n",
    "leg.get_frame().set_linewidth(.5)\n"
   ]
  }
 ],
 "metadata": {
  "kernelspec": {
   "display_name": "Python 3 (ipykernel)",
   "language": "python",
   "name": "python3"
  },
  "language_info": {
   "codemirror_mode": {
    "name": "ipython",
    "version": 3
   },
   "file_extension": ".py",
   "mimetype": "text/x-python",
   "name": "python",
   "nbconvert_exporter": "python",
   "pygments_lexer": "ipython3",
   "version": "3.7.13"
  }
 },
 "nbformat": 4,
 "nbformat_minor": 5
}
