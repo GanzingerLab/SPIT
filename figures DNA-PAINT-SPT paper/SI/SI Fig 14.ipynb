{
 "cells": [
  {
   "cell_type": "code",
   "execution_count": 4,
   "id": "aa4e622a",
   "metadata": {},
   "outputs": [],
   "source": [
    "import os\n",
    "import pandas as pd\n",
    "import matplotlib.pyplot as plt\n",
    "import seaborn as sns\n",
    "plt.style.use(r'U:\\DNA-PAINT-SPT\\nature_7pt.mplstyle')\n",
    "\n",
    "# Load data\n",
    "data = pd.read_hdf(r'U:\\DNA-PAINT-SPT\\SI\\Fig14\\data.hdf')"
   ]
  },
  {
   "cell_type": "code",
   "execution_count": 5,
   "id": "7daa526a",
   "metadata": {},
   "outputs": [
    {
     "data": {
      "text/plain": [
       "(0.0, 0.19)"
      ]
     },
     "execution_count": 5,
     "metadata": {},
     "output_type": "execute_result"
    },
    {
     "data": {
      "image/png": "[encoded data removed]",
      "text/plain": [
       "<Figure size 200x150 with 1 Axes>"
      ]
     },
     "metadata": {},
     "output_type": "display_data"
    }
   ],
   "source": [
    "# Plot\n",
    "f, ax = plt.subplots(1, 1,)\n",
    "f.set_figheight(1.5)\n",
    "f.set_figwidth(2)\n",
    "f.subplots_adjust(left=0.02, right=0.95, bottom=0.05,\n",
    "                  top=0.95, wspace=0.9, hspace=0.05)\n",
    "\n",
    "my_palette = {'BG-JF549i': 'dimgrey', 'BG-AF647': 'forestgreen',\n",
    "              'DNA-SD Cy3B': 'cornflowerblue', 'DNA-PAINT Cy3B': 'chocolate',\n",
    "              'DNA-PAINT ATTO643': 'firebrick', 'BG-JF646': 'mediumorchid', 'BG-JFX650': 'goldenrod'}\n",
    "ax = sns.boxplot(data=data, y='condition', orient='h', whis=1.5,\n",
    "                 x='D_msd_avg', palette=my_palette, linewidth=0.5,  showfliers=False,\n",
    "                 order=['DNA-PAINT ATTO643', 'DNA-PAINT Cy3B', 'DNA-SD Cy3B',\n",
    "                        'BG-AF647', 'BG-JF549i', 'BG-JF646', 'BG-JFX650'])\n",
    "\n",
    "# Decorate Plot\n",
    "ax.set_xlabel(r'$D_{\\mathrm{msd}} \\ [\\mathrm{\\mu m^2/s}$]')\n",
    "ax.set_ylabel('')\n",
    "ax.set_xlim([0, 0.19])\n"
   ]
  }
 ],
 "metadata": {
  "kernelspec": {
   "display_name": "Python 3 (ipykernel)",
   "language": "python",
   "name": "python3"
  },
  "language_info": {
   "codemirror_mode": {
    "name": "ipython",
    "version": 3
   },
   "file_extension": ".py",
   "mimetype": "text/x-python",
   "name": "python",
   "nbconvert_exporter": "python",
   "pygments_lexer": "ipython3",
   "version": "3.7.16"
  }
 },
 "nbformat": 4,
 "nbformat_minor": 5
}
