{
 "cells": [
  {
   "cell_type": "code",
   "execution_count": 1,
   "id": "d2925f7f",
   "metadata": {},
   "outputs": [],
   "source": [
    "import pandas as pd\n",
    "import matplotlib.pyplot as plt\n",
    "import seaborn as sns\n",
    "plt.style.use(r'U:\\DNA-PAINT-SPT\\nature_7pt.mplstyle')\n",
    "\n",
    "# Load data\n",
    "data = pd.read_hdf(r'U:\\DNA-PAINT-SPT\\SI\\Fig10\\data.hdf')"
   ]
  },
  {
   "cell_type": "code",
   "execution_count": 2,
   "id": "be8f42fb",
   "metadata": {},
   "outputs": [
    {
     "data": {
      "image/png": "[encoded data removed]",
      "text/plain": [
       "<Figure size 180x200 with 2 Axes>"
      ]
     },
     "metadata": {},
     "output_type": "display_data"
    }
   ],
   "source": [
    "# Plot\n",
    "f, axs = plt.subplots(1, 2)\n",
    "f.set_figheight(2)\n",
    "f.set_figwidth(1.8)\n",
    "f.subplots_adjust(left=0.02, right=0.95, bottom=0.05,\n",
    "                  top=0.95, wspace=0.2, hspace=0.0)\n",
    "\n",
    "sns.boxplot(x='ligand', y='K_B', data=data[[\n",
    "            'K_B', 'ligand']], hue='ligand', palette=['darkorange', 'mediumpurple'], linewidth=0.5, ax=axs[0], whis=1.5)\n",
    "\n",
    "\n",
    "sns.boxplot(x='ligand', y='K_X', data=data[[\n",
    "            'K_X', 'ligand']], hue='ligand', palette=['darkorange', 'mediumpurple'], linewidth=0.5, ax=axs[1], whis=1.5)\n",
    "\n",
    "# Decorate Plot\n",
    "axs[0].set_yscale('log')\n",
    "axs[0].set_ylabel(r'$K_B \\ [\\mathrm{M}]$')\n",
    "axs[1].set_ylabel(r'$K_X \\ [1/\\mathrm{\\mu m}^2]$')\n",
    "axs[0].set_xlabel('')\n",
    "axs[0].tick_params(axis='x', rotation=30)\n",
    "axs[0].get_legend().remove()\n",
    "axs[1].set_yscale('log')\n",
    "axs[1].yaxis.tick_right()\n",
    "axs[1].yaxis.set_label_position(\"right\")\n",
    "axs[1].set_xlabel('')\n",
    "axs[1].tick_params(axis='x', rotation=30)\n",
    "axs[1].get_legend().remove()\n",
    "axs[1].spines.right.set_visible(True)\n",
    "axs[0].spines.right.set_visible(True)\n",
    "axs[1].spines.left.set_visible(True)"
   ]
  }
 ],
 "metadata": {
  "kernelspec": {
   "display_name": "Python 3 (ipykernel)",
   "language": "python",
   "name": "python3"
  },
  "language_info": {
   "codemirror_mode": {
    "name": "ipython",
    "version": 3
   },
   "file_extension": ".py",
   "mimetype": "text/x-python",
   "name": "python",
   "nbconvert_exporter": "python",
   "pygments_lexer": "ipython3",
   "version": "3.7.16"
  }
 },
 "nbformat": 4,
 "nbformat_minor": 5
}
