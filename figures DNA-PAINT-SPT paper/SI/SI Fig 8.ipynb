{
 "cells": [
  {
   "cell_type": "code",
   "execution_count": 1,
   "id": "80ea6242",
   "metadata": {},
   "outputs": [],
   "source": [
    "import pandas as pd\n",
    "import seaborn as sns\n",
    "import matplotlib.pyplot as plt\n",
    "plt.style.use(r'U:\\DNA-PAINT-SPT\\nature_7pt.mplstyle')\n",
    "\n",
    "# Load data\n",
    "data = pd.read_hdf(r'U:\\DNA-PAINT-SPT\\SI\\Fig8\\data.hdf')"
   ]
  },
  {
   "cell_type": "code",
   "execution_count": 2,
   "id": "887c5bb2",
   "metadata": {},
   "outputs": [
    {
     "data": {
      "text/plain": [
       "(0.0, 0.45)"
      ]
     },
     "execution_count": 2,
     "metadata": {},
     "output_type": "execute_result"
    },
    {
     "data": {
      "image/png": "[encoded data removed]",
      "text/plain": [
       "<Figure size 130x250 with 1 Axes>"
      ]
     },
     "metadata": {},
     "output_type": "display_data"
    }
   ],
   "source": [
    "# Plot\n",
    "f, ax = plt.subplots(1, 1)\n",
    "f.subplots_adjust(left=0.25, right=0.95, bottom=0.25,\n",
    "                  top=0.95, wspace=0.5, hspace=0.2)\n",
    "f.set_figheight(2.5)\n",
    "f.set_figwidth(1.3)\n",
    "\n",
    "ax = sns.boxplot(data=data, x='condition', y='D_msd_avg', linewidth=0.5,\n",
    "                 whis=1.5, palette=['darkorange', 'mediumpurple'], \n",
    "                 boxprops=dict(alpha=1), orient='v')\n",
    "\n",
    "# Decorate Plot\n",
    "ax.set_xlabel('Dimerisation agent')\n",
    "ax.set_ylabel(r'Dimer  $ D_{\\mathrm{msd}} \\ [\\mathrm{\\mu m^2/s}]$')\n",
    "ax.set_xticklabels(['AP20187', 'Antibody'], rotation=0)\n",
    "ax.set_ylim([0, 0.45])"
   ]
  }
 ],
 "metadata": {
  "kernelspec": {
   "display_name": "Python 3 (ipykernel)",
   "language": "python",
   "name": "python3"
  },
  "language_info": {
   "codemirror_mode": {
    "name": "ipython",
    "version": 3
   },
   "file_extension": ".py",
   "mimetype": "text/x-python",
   "name": "python",
   "nbconvert_exporter": "python",
   "pygments_lexer": "ipython3",
   "version": "3.7.16"
  }
 },
 "nbformat": 4,
 "nbformat_minor": 5
}
