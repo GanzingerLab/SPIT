{
 "cells": [
  {
   "cell_type": "code",
   "execution_count": 1,
   "id": "b489a5ec",
   "metadata": {},
   "outputs": [],
   "source": [
    "import os\n",
    "from glob import glob\n",
    "import matplotlib.pyplot as plt\n",
    "import numpy as np\n",
    "import pandas as pd\n",
    "plt.style.use(r'U:\\DNA-PAINT-SPT\\nature_7pt.mplstyle')\n",
    "\n",
    "# Load data\n",
    "data = pd.read_hdf(r'U:\\DNA-PAINT-SPT\\SI\\Fig17\\data.hdf')"
   ]
  },
  {
   "cell_type": "code",
   "execution_count": 2,
   "id": "4f44ebec",
   "metadata": {},
   "outputs": [
    {
     "data": {
      "image/png": "[encoded data removed]",
      "text/plain": [
       "<Figure size 170x140 with 1 Axes>"
      ]
     },
     "metadata": {},
     "output_type": "display_data"
    }
   ],
   "source": [
    "# Plot\n",
    "f, ax = plt.subplots(1, 1)\n",
    "f.set_figheight(1.4)\n",
    "f.set_figwidth(1.7)\n",
    "\n",
    "\n",
    "ax.hist([data.loc[data.Source=='DNA-PAINT'].length.values,data.loc[data.Source=='SD'].length.values],\n",
    "        color=['tomato', 'cornflowerblue'],\n",
    "        bins=15,\n",
    "        histtype='bar',\n",
    "        stacked=False,\n",
    "        zorder=100)\n",
    "\n",
    "# Decorate Plot\n",
    "ax.set_yscale('log')\n",
    "ax.set_xticks(np.arange(0, 1800, step=400))\n",
    "ax.xaxis.set_major_formatter(plt.FuncFormatter(lambda x, _: f'{x/10:.0f}'))\n",
    "ax.set_xlabel('Co-diffusion duration [s]')\n",
    "ax.set_ylabel('# Events')\n",
    "leg = ax.legend(labels=['DNA-PAINT', 'Single-dye'], loc='upper right',\n",
    "                handlelength=1, borderpad=0.2, labelspacing=0.2, edgecolor='black')\n",
    "leg.get_frame().set_linewidth(.5)"
   ]
  }
 ],
 "metadata": {
  "kernelspec": {
   "display_name": "Python 3 (ipykernel)",
   "language": "python",
   "name": "python3"
  },
  "language_info": {
   "codemirror_mode": {
    "name": "ipython",
    "version": 3
   },
   "file_extension": ".py",
   "mimetype": "text/x-python",
   "name": "python",
   "nbconvert_exporter": "python",
   "pygments_lexer": "ipython3",
   "version": "3.7.16"
  }
 },
 "nbformat": 4,
 "nbformat_minor": 5
}
