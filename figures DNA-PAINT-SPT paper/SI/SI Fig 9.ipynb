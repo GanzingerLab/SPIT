{
 "cells": [
  {
   "cell_type": "code",
   "execution_count": 3,
   "id": "ee20080e",
   "metadata": {},
   "outputs": [],
   "source": [
    "import numpy as np\n",
    "import pandas as pd\n",
    "import matplotlib.pyplot as plt\n",
    "from spit.analysis.functions import dimerKD as dimerKD\n",
    "import matplotlib.ticker as ticker\n",
    "plt.style.use(r'U:\\DNA-PAINT-SPT\\nature_7pt.mplstyle')\n",
    "\n",
    "# Load data\n",
    "data = pd.read_hdf(r'U:\\DNA-PAINT-SPT\\SI\\Fig9\\data.hdf')"
   ]
  },
  {
   "cell_type": "code",
   "execution_count": 4,
   "id": "75cfd012",
   "metadata": {},
   "outputs": [
    {
     "name": "stdout",
     "output_type": "stream",
     "text": [
      "K_X = 5.9e-03 +/- 5.6e-04 [1/um2] \n",
      "K_B = 3.3e-07 +/- 1.1E-08 [1/um3] =  5.4e-10 M\n",
      "corr. factor =  4.2e-01 +/-  1.0e-02\n",
      "Fit peak: 2.8e-10 M = K_B/2\n",
      "K_X = 1.4e-01 +/- 1.4e-01 [1/um2] \n",
      "K_B = 6.4e-05 +/- 1.1E-05 [1/um3] =  1.1e-07 M\n",
      "corr. factor =  5.5e-01 +/-  2.2e-01\n",
      "Fit peak: 5.1e-08 M = K_B/2\n"
     ]
    },
    {
     "data": {
      "text/plain": [
       "[Text(0, 0.0, '0'),\n",
       " Text(0, 0.1, '13'),\n",
       " Text(0, 0.2, '27'),\n",
       " Text(0, 0.30000000000000004, '40')]"
      ]
     },
     "execution_count": 4,
     "metadata": {},
     "output_type": "execute_result"
    },
    {
     "data": {
      "image/png": "[encoded data removed]",
      "text/plain": [
       "<Figure size 250x200 with 1 Axes>"
      ]
     },
     "metadata": {},
     "output_type": "display_data"
    }
   ],
   "source": [
    "# Plot\n",
    "f, ax = plt.subplots(1, 1)\n",
    "f.subplots_adjust(left=0.25, right=0.95, bottom=0.25,\n",
    "                  top=0.95, wspace=0.5, hspace=0.2)\n",
    "f.set_figheight(2)\n",
    "f.set_figwidth(2.5)\n",
    "\n",
    "dimerKD.plot_dimer_fit(data.loc[data.ligand=='AP20187'], color='darkorange', annotation=False, ax=ax)\n",
    "dimerKD.plot_dimer_fit(data.loc[data.ligand=='Antibody'], color='rebeccapurple',\n",
    "                       annotation=False, ax=ax)\n",
    "\n",
    "ax.legend(['AP20187', 'Antibody'], bbox_to_anchor=(1.1, 1), loc='upper right', bbox_transform=ax.transAxes,\n",
    "          handlelength=1, borderpad=0.2, labelspacing=0.2)\n",
    "\n",
    "# Decorate Plot\n",
    "xticks = np.logspace(-11, -2, 4)\n",
    "ax.set_xlim([1e-12, 1e-1])\n",
    "ax.set_xticks(xticks)\n",
    "ax.set_yticks(np.arange(0, 0.35, step=0.1))\n",
    "ax.set_yticklabels(ticker.FormatStrFormatter('%.0f').format_ticks(\n",
    "    np.linspace(0, 10*np.ceil(10*0.4), 4)))\n"
   ]
  }
 ],
 "metadata": {
  "kernelspec": {
   "display_name": "Python 3 (ipykernel)",
   "language": "python",
   "name": "python3"
  },
  "language_info": {
   "codemirror_mode": {
    "name": "ipython",
    "version": 3
   },
   "file_extension": ".py",
   "mimetype": "text/x-python",
   "name": "python",
   "nbconvert_exporter": "python",
   "pygments_lexer": "ipython3",
   "version": "3.7.16"
  }
 },
 "nbformat": 4,
 "nbformat_minor": 5
}
