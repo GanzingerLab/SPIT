{
 "cells": [
  {
   "cell_type": "code",
   "execution_count": 1,
   "id": "bc6f287d",
   "metadata": {},
   "outputs": [],
   "source": [
    "import matplotlib.pyplot as plt\n",
    "import numpy as np\n",
    "import pandas as pd\n",
    "plt.style.use(r'U:\\DNA-PAINT-SPT\\nature_7pt.mplstyle')\n",
    "\n",
    "# Load data\n",
    "data = pd.read_hdf(r'U:\\DNA-PAINT-SPT\\SI\\Fig4\\data.hdf')"
   ]
  },
  {
   "cell_type": "code",
   "execution_count": 5,
   "id": "249e70ae",
   "metadata": {},
   "outputs": [
    {
     "data": {
      "image/png": "[encoded data removed]",
      "text/plain": [
       "<Figure size 120x80 with 1 Axes>"
      ]
     },
     "metadata": {},
     "output_type": "display_data"
    },
    {
     "data": {
      "image/png": "[encoded data removed]",
      "text/plain": [
       "<Figure size 120x80 with 1 Axes>"
      ]
     },
     "metadata": {},
     "output_type": "display_data"
    },
    {
     "data": {
      "image/png": "[encoded data removed]",
      "text/plain": [
       "<Figure size 120x80 with 1 Axes>"
      ]
     },
     "metadata": {},
     "output_type": "display_data"
    },
    {
     "data": {
      "image/png": "[encoded data removed]",
      "text/plain": [
       "<Figure size 120x80 with 1 Axes>"
      ]
     },
     "metadata": {},
     "output_type": "display_data"
    }
   ],
   "source": [
    "def plot_colocDistances(df_colocs, ylabel='Colocalizations', color='black', ax=None):\n",
    "    \"\"\"\n",
    "    Plot histogram of colocalization distances.\n",
    "\n",
    "    df_colocs : Dataframe\n",
    "        Dataframe containing colocalization events with distances in [nm]\n",
    "    \"\"\"\n",
    "    # Plot\n",
    "    ax.hist(df_colocs.dist,\n",
    "            bins=np.linspace(0, 400, 40),\n",
    "            color=color,\n",
    "            alpha=1,\n",
    "            histtype='step'\n",
    "            )\n",
    "    ax.set_xlabel(r' $r$ [nm]')\n",
    "    ax.set_ylabel(ylabel)\n",
    "    \n",
    "\n",
    "# Plot dimer sample colocalizations\n",
    "# List of conditions for data selection\n",
    "conditions = [data.Source=='4E-8M_coloc',\n",
    "              (data.Source=='4E-8M_cotrack') & (data.loc_count > 10),\n",
    "              data.Source=='0M_coloc',\n",
    "              (data.Source=='0M_cotrack') & (data.loc_count > 10)]\n",
    "\n",
    "for condition in conditions:\n",
    "    f, ax = plt.subplots(1, 1)\n",
    "    f.set_figheight(.8)\n",
    "    f.set_figwidth(1.2)\n",
    "    plot_colocDistances(data.loc[condition], ylabel='',\n",
    "                        color='black', ax=ax)\n",
    "    ax.set_xlim([0, 300])\n",
    "    ax.set_xticks([0, 100, 200, 300])\n",
    "    ax.set_ylim([0, 12000])\n"
   ]
  }
 ],
 "metadata": {
  "kernelspec": {
   "display_name": "Python 3 (ipykernel)",
   "language": "python",
   "name": "python3"
  },
  "language_info": {
   "codemirror_mode": {
    "name": "ipython",
    "version": 3
   },
   "file_extension": ".py",
   "mimetype": "text/x-python",
   "name": "python",
   "nbconvert_exporter": "python",
   "pygments_lexer": "ipython3",
   "version": "3.7.16"
  }
 },
 "nbformat": 4,
 "nbformat_minor": 5
}
